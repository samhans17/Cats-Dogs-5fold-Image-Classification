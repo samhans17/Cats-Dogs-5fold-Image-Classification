{
 "cells": [
  {
   "cell_type": "code",
   "execution_count": null,
   "id": "f7a5597a",
   "metadata": {},
   "outputs": [],
   "source": [
    "import tensorflow as tf\n",
    "from tensorflow import keras\n",
    "from tensorflow.keras import layers"
   ]
  },
  {
   "cell_type": "code",
   "execution_count": null,
   "id": "66e5c03a",
   "metadata": {},
   "outputs": [],
   "source": [
    "image_size = (256, 256)\n",
    "batch_size = 128\n",
    "dataset = tf.keras.preprocessing.image_dataset_from_directory(\n",
    "    'data//training_set',\n",
    "    validation_split=0.2,\n",
    "    color_mode='rgb',\n",
    "    label_mode='binary',\n",
    "    subset='training',\n",
    "    seed=13372,\n",
    "    image_size=image_size,\n",
    "    batch_size=batch_size)\n",
    "\n",
    "train_size = int(0.8 * dataset.cardinality().numpy())\n",
    "valid_size = dataset.cardinality().numpy() - train_size\n",
    "train_ds = dataset.take(train_size)\n",
    "valid_ds = dataset.skip(train_size)"
   ]
  },
  {
   "cell_type": "code",
   "execution_count": null,
   "id": "0a008410",
   "metadata": {},
   "outputs": [],
   "source": [
    "import matplotlib.pyplot as plt\n",
    "\n",
    "plt.figure(figsize=(10, 10))\n",
    "for images, labels in train_ds.take(1):\n",
    "    for i in range(9):\n",
    "        ax = plt.subplot(3, 3, i + 1)\n",
    "        plt.imshow(images[i].numpy().astype(\"uint8\"))\n",
    "        plt.title(int(labels[i]))\n",
    "        plt.axis(\"off\")"
   ]
  },
  {
   "cell_type": "code",
   "execution_count": 1,
   "id": "1c091e83",
   "metadata": {},
   "outputs": [],
   "source": [
    "def cnn_model3(input_shape, num_classes):\n",
    "  model = tf.keras.Sequential()\n",
    "  # Add input layer with input_shape and float32 dtype\n",
    "  model.add(tf.keras.layers.InputLayer(input_shape=input_shape, dtype='float32'))\n",
    "  # Add 5 convolutional layers with 32, 64, 128, 256, and 512 filters\n",
    "  model.add(tf.keras.layers.Conv2D(32, kernel_size=(3, 3), activation='relu', input_shape=input_shape))\n",
    "  model.add(tf.keras.layers.Conv2D(64, kernel_size=(3, 3), activation='relu'))\n",
    "  model.add(tf.keras.layers.Conv2D(128, kernel_size=(3, 3), activation='relu'))\n",
    "  model.add(tf.keras.layers.Conv2D(256, kernel_size=(3, 3), activation='relu'))\n",
    "  model.add(tf.keras.layers.Conv2D(512, kernel_size=(3, 3), activation='relu'))\n",
    "  \n",
    "  # Add max pooling layer after each convolutional layer\n",
    "  model.add(tf.keras.layers.MaxPooling2D(pool_size=(2, 2)))\n",
    "  \n",
    "  # Flatten the output of the convolutional layers\n",
    "  model.add(tf.keras.layers.Flatten())\n",
    "  \n",
    "  # Add 2 fully connected layers with 512 and 128 units, respectively\n",
    "  model.add(tf.keras.layers.Dense(512, activation='sigmoid'))\n",
    "  model.add(tf.keras.layers.Dense(128, activation='sigmoid'))\n",
    "  \n",
    "  if num_classes == 2:\n",
    "    activation = \"sigmoid\"\n",
    "    units = 1\n",
    "  else:\n",
    "    activation = \"softmax\"\n",
    "    units = num_classes\n",
    "    \n",
    "  model.add(layers.Dropout(0.5))\n",
    "  # Add output layer with num_classes units and softmax activation\n",
    "  model.add(tf.keras.layers.Dense(units, activation=activation))\n",
    "  \n",
    "  return model"
   ]
  },
  {
   "cell_type": "code",
   "execution_count": null,
   "id": "f4440b4b",
   "metadata": {},
   "outputs": [],
   "source": [
    "input_shape = (256, 256, 3)\n",
    "num_classes = 2\n",
    "model = cnn_model2(input_shape, num_classes)"
   ]
  },
  {
   "cell_type": "code",
   "execution_count": null,
   "id": "1a268515",
   "metadata": {},
   "outputs": [],
   "source": [
    "model.summary()"
   ]
  },
  {
   "cell_type": "code",
   "execution_count": null,
   "id": "e9d2a799",
   "metadata": {},
   "outputs": [],
   "source": [
    "epochs = 5\n",
    "\n",
    "model.compile(\n",
    "    optimizer=keras.optimizers.Adam(1e-3),\n",
    "    loss=\"binary_crossentropy\",\n",
    "    metrics=[\"accuracy\"],\n",
    ")"
   ]
  },
  {
   "cell_type": "code",
   "execution_count": null,
   "id": "703dbddb",
   "metadata": {},
   "outputs": [],
   "source": [
    "history = model.fit(\n",
    "    train_ds,\n",
    "    epochs=epochs,\n",
    "    validation_data=valid_ds\n",
    ")"
   ]
  },
  {
   "cell_type": "code",
   "execution_count": null,
   "id": "c90a8e1c",
   "metadata": {},
   "outputs": [],
   "source": [
    "history = model.fit(\n",
    "    train_ds,\n",
    "    epochs=epochs,\n",
    "    validation_data=valid_ds\n",
    ")"
   ]
  },
  {
   "cell_type": "code",
   "execution_count": null,
   "id": "2c1c7876",
   "metadata": {},
   "outputs": [],
   "source": [
    "img = keras.preprocessing.image.load_img(\n",
    "    \"data//training_set//cats//cat.4185.jpg\", target_size=input_shape\n",
    ")\n",
    "img_array = keras.preprocessing.image.img_to_array(img)\n",
    "img_array = tf.expand_dims(img_array, 0)  # Create batch axis\n",
    "\n",
    "predictions = model.predict(img_array)\n",
    "score = float(predictions[0])\n",
    "print(f\"This image is {100 * (1 - score):.2f}% cat and {100 * score:.2f}% dog.\")"
   ]
  },
  {
   "cell_type": "code",
   "execution_count": null,
   "id": "7035a388",
   "metadata": {},
   "outputs": [],
   "source": []
  },
  {
   "cell_type": "code",
   "execution_count": null,
   "id": "ed73f961",
   "metadata": {},
   "outputs": [],
   "source": []
  }
 ],
 "metadata": {
  "kernelspec": {
   "display_name": "Python 3",
   "language": "python",
   "name": "python3"
  },
  "language_info": {
   "codemirror_mode": {
    "name": "ipython",
    "version": 3
   },
   "file_extension": ".py",
   "mimetype": "text/x-python",
   "name": "python",
   "nbconvert_exporter": "python",
   "pygments_lexer": "ipython3",
   "version": "3.6.13"
  }
 },
 "nbformat": 4,
 "nbformat_minor": 5
}
